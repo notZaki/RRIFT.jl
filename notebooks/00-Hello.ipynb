{
 "cells": [
  {
   "cell_type": "markdown",
   "metadata": {},
   "source": [
    "# Hello there\n",
    "\n",
    "This a collection of jupyter notebooks which serve as a companion to the following paper:  \n",
    "[Zaki Ahmed & Ives R. Levesque. Pharmacokinetic modeling of dynamic contrast‐enhanced MRI using a reference region and input function tail. Magn Reson Med. 2020; 83: 286– 298. https://doi.org/10.1002/mrm.27913](https://onlinelibrary.wiley.com/doi/abs/10.1002/mrm.27913)\n",
    "\n",
    "## Navigation\n",
    "\n",
    "The left sidebar shows a list of notebooks.\n",
    "The sidebar can be un/hidden with <kbd>Ctrl</kbd><kbd>B</kbd> on Windows/Unix.\n",
    "\n",
    "## Basics\n",
    "\n",
    "### Jupyter Notebooks\n",
    "\n",
    "It is assumed that users will already know how to use/run jupyter notebooks.\n",
    "For those unfamiliar, I offer two key peices of information:\n",
    "- Press <kbd>Shift</kbd><kbd>Enter</kbd> to run a code cell\n",
    "- Dark mode can be enabled by from the top menu via `Settings -> JupyterLab Theme`\n",
    "\n",
    "For everything else, consult your favourite search engine.\n",
    "\n",
    "### Julia\n",
    "\n",
    "The code is written in [Julia](https://julialang.org/). The syntax should feel familiar to users of other high-level languages such as Python or MATLAB. \n",
    "\n",
    "Although Julia is quite fast in most cases, it can sometimes be slow, notably when loading packages or when plottinng something for the first time (this is ongoing area of improvement).\n",
    "\n",
    "## Dependencies\n",
    "\n",
    "If the notebooks are being run on [mybinder](https://mybinder.org/), then all dependencies should automatically be installed.\n",
    "\n",
    "To run the notebooks locally, clone the [notebook repository](https://github.com/notZaki/RRIFT_notebook) then open a julia session in the cloned directory and run the following commands\n",
    "```julia\n",
    "# Notes: `]` should be typed, it isn't a decoration. Also there is a dot '.' at the end of the first command.\n",
    "]activate .\n",
    "]instantiate\n",
    "```\n",
    "which will download the required dependencies. \n",
    "The notebook can be run via:\n",
    "```julia\n",
    "using IJulia\n",
    "jupyterlab(dir=pwd())\n",
    "```\n",
    "\n",
    "To check whether all dependencies are installed, run the code cell below and ensure there are no errors (warnings are ok). "
   ]
  },
  {
   "cell_type": "code",
   "execution_count": null,
   "metadata": {},
   "outputs": [],
   "source": [
    "using RRIFT # Contains manuscript-specific code\n",
    "using Perfusion # For general DCE-MRI tools\n",
    "using MAT # For io with .mat files\n",
    "using NumericalIntegration # Provides function for cumulative integral, used by RRIFT\n",
    "\n",
    "# For visualization\n",
    "using Plots\n",
    "using Interact\n",
    "\n",
    "# Because there is no escape from Statistics\n",
    "using Statistics, StatsBase"
   ]
  }
 ],
 "metadata": {
  "@webio": {
   "lastCommId": null,
   "lastKernelId": null
  },
  "kernelspec": {
   "display_name": "Julia 1.2.0",
   "language": "julia",
   "name": "julia-1.2"
  },
  "language_info": {
   "file_extension": ".jl",
   "mimetype": "application/julia",
   "name": "julia",
   "version": "1.2.0"
  }
 },
 "nbformat": 4,
 "nbformat_minor": 4
}
