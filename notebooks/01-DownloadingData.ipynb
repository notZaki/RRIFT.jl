{
 "cells": [
  {
   "cell_type": "code",
   "execution_count": 1,
   "metadata": {},
   "outputs": [],
   "source": [
    "using RRIFT"
   ]
  },
  {
   "cell_type": "markdown",
   "metadata": {},
   "source": [
    "# Downloading the DICOM files\n",
    "\n",
    "The in-vivo evaluation uses publicly available data in [The Cancer Genome Atlas - Glioblastoma Multiforme (TCGA-GBM) collection](https://wiki.cancerimagingarchive.net/display/Public/TCGA-GBM) from The Cancer Imaging Archive (TCIA).\n",
    "\n",
    "The TCGA-GBM collection contains nearly 600 studies with over 5,000 imaging series, however not all of these contain DCE-MRI scans. \n",
    "The RRIFT manuscript used 8 DCE-MRI studies and their unique identifiers (Study Instance UIDs) were included in supplementary materials table S1.\n",
    "These UIDs can be used to download the dicom files."
   ]
  },
  {
   "cell_type": "code",
   "execution_count": 2,
   "metadata": {},
   "outputs": [
    {
     "data": {
      "text/plain": [
       "8-element Array{String,1}:\n",
       " \"1.3.6.1.4.1.14519.5.2.1.4591.4001.278082550121070125285213632206\"\n",
       " \"1.3.6.1.4.1.14519.5.2.1.4591.4001.335353575986269052491315637674\"\n",
       " \"1.3.6.1.4.1.14519.5.2.1.4591.4001.365805576275232517344053939830\"\n",
       " \"1.3.6.1.4.1.14519.5.2.1.4591.4001.100057969162276274933613772317\"\n",
       " \"1.3.6.1.4.1.14519.5.2.1.4591.4001.269887096484012292940330991126\"\n",
       " \"1.3.6.1.4.1.14519.5.2.1.4591.4001.961791689281776173751323306588\"\n",
       " \"1.3.6.1.4.1.14519.5.2.1.4591.4001.763554173270318063812534542847\"\n",
       " \"1.3.6.1.4.1.14519.5.2.1.4591.4001.304604545029494418165835320551\""
      ]
     },
     "execution_count": 2,
     "metadata": {},
     "output_type": "execute_result"
    }
   ],
   "source": [
    "# The 8 Study Instance UIDs are:\n",
    "RRIFT.gbm_study_uids"
   ]
  },
  {
   "cell_type": "markdown",
   "metadata": {},
   "source": [
    "Each study contains multiple imaging series.\n",
    "For our purposes, we need the DCE-MRI series along with the variable flip angle (VFA) series. \n",
    "The respective DICOM files for all 8 studies can be downloaded into a `destination` folder by\n",
    "```julia\n",
    "dicom_folders = download_invivo_studies(destination = \"./data/tcga-gbm\")\n",
    "```\n",
    "The above function will automatically identify the DCE-MRI and VFA series for each study.\n",
    "\n",
    "As an example for this notebook, we will only download a single study and this can be done by selecting a single study UID and passing it to the `download_invivo_studies` function."
   ]
  },
  {
   "cell_type": "code",
   "execution_count": 3,
   "metadata": {},
   "outputs": [
    {
     "data": {
      "text/plain": [
       "\"1.3.6.1.4.1.14519.5.2.1.4591.4001.763554173270318063812534542847\""
      ]
     },
     "execution_count": 3,
     "metadata": {},
     "output_type": "execute_result"
    }
   ],
   "source": [
    "chosen_study_uid = RRIFT.gbm_study_uids[8]"
   ]
  },
  {
   "cell_type": "code",
   "execution_count": 4,
   "metadata": {},
   "outputs": [
    {
     "data": {
      "text/plain": [
       "(vfa_folders = [\"./data/tcga-gbm-dicom/1.3.6.1.4.1.14519.5.2.1.4591.4001.763554173270318063812534542847/vfa\"], dce_folders = [\"./data/tcga-gbm-dicom/1.3.6.1.4.1.14519.5.2.1.4591.4001.763554173270318063812534542847/dce\"])"
      ]
     },
     "execution_count": 4,
     "metadata": {},
     "output_type": "execute_result"
    }
   ],
   "source": [
    "dicom_folders = download_invivo_studies(chosen_study_uid, destination = \"./data/tcga-gbm-dicom\")"
   ]
  },
  {
   "cell_type": "markdown",
   "metadata": {},
   "source": [
    "Note that re-running the above command will not re-download the dicom files.\n",
    "To force the function to re-download the files, pass `overwrite = true` as an argument into the above function.\n",
    "\n",
    "The `download_invivo_studies` function returns a [NamedTuple](https://docs.julialang.org/en/v1/base/base/#Core.NamedTuple) containing two elements: `vfa_folders` and `dce_folders`."
   ]
  },
  {
   "cell_type": "code",
   "execution_count": 5,
   "metadata": {},
   "outputs": [
    {
     "name": "stdout",
     "output_type": "stream",
     "text": [
      "VFA: [\"./data/tcga-gbm-dicom/1.3.6.1.4.1.14519.5.2.1.4591.4001.763554173270318063812534542847/vfa\"]\n",
      "DCE: [\"./data/tcga-gbm-dicom/1.3.6.1.4.1.14519.5.2.1.4591.4001.763554173270318063812534542847/dce\"]\n"
     ]
    }
   ],
   "source": [
    "println(\"VFA: $(dicom_folders.vfa_folders)\")\n",
    "println(\"DCE: $(dicom_folders.dce_folders)\")"
   ]
  },
  {
   "cell_type": "markdown",
   "metadata": {},
   "source": [
    "# Downloading masks\n",
    "\n",
    "Masks/contours for the tissue of interest (tumour), temporalis muscle (reference tissue), and arterial input function were manually drawn and saved as .mat files.\n",
    "They can be downloaded by:"
   ]
  },
  {
   "cell_type": "code",
   "execution_count": 6,
   "metadata": {},
   "outputs": [
    {
     "data": {
      "text/plain": [
       "\"./data/tcga-gbm-masks\""
      ]
     },
     "execution_count": 6,
     "metadata": {},
     "output_type": "execute_result"
    }
   ],
   "source": [
    "download_invivo_masks(destination = \"./data/tcga-gbm-masks\")"
   ]
  },
  {
   "cell_type": "markdown",
   "metadata": {},
   "source": [
    "# Downloading Pre-processed .mat data\n",
    "\n",
    "The input data required a couple of pre-processing steps which include:\n",
    "\n",
    "1. Loading the VFA and DCE-MRI DICOM files\n",
    "1. Computing T1 maps from the VFA signal\n",
    "1. Converting DCE-MRI signal to tracer concentration\n",
    "1. Applying the masks to extract curves for the tumour, reference tissue, and input function.\n",
    "\n",
    "To save time, the product of these post-processing steps has been saved in .mat files which can be downloaded by:"
   ]
  },
  {
   "cell_type": "code",
   "execution_count": 7,
   "metadata": {},
   "outputs": [
    {
     "data": {
      "text/plain": [
       "\"./data/tcga-gbm-mat\""
      ]
     },
     "execution_count": 7,
     "metadata": {},
     "output_type": "execute_result"
    }
   ],
   "source": [
    "download_invivo_preprocessed(destination = \"./data/tcga-gbm-mat\")"
   ]
  }
 ],
 "metadata": {
  "@webio": {
   "lastCommId": "414a5b99-2a9d-4229-b3bf-4a8e49553bbf",
   "lastKernelId": "fb93885e-d4f9-4df9-a3c9-326067ee5de8"
  },
  "kernelspec": {
   "display_name": "Julia 1.2.0",
   "language": "julia",
   "name": "julia-1.2"
  },
  "language_info": {
   "file_extension": ".jl",
   "mimetype": "application/julia",
   "name": "julia",
   "version": "1.2.0"
  }
 },
 "nbformat": 4,
 "nbformat_minor": 4
}
