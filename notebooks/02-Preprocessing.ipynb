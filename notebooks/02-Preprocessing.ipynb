{
 "cells": [
  {
   "cell_type": "code",
   "execution_count": 1,
   "metadata": {},
   "outputs": [
    {
     "data": {
      "text/html": [
       "<script>\n",
       "// Immediately-invoked-function-expression to avoid global variables.\n",
       "(function() {\n",
       "    var warning_div = document.getElementById(\"webio-warning-5550842406326858366\");\n",
       "    var hide = function () {\n",
       "        var script = document.getElementById(\"webio-setup-6266122873047729647\");\n",
       "        var parent = script && script.parentElement;\n",
       "        var grandparent = parent && parent.parentElement;\n",
       "        if (grandparent) {\n",
       "            grandparent.style.display = \"none\";\n",
       "        }\n",
       "        warning_div.style.display = \"none\";\n",
       "    };\n",
       "    if (typeof Jupyter !== \"undefined\") {\n",
       "        console.log(\"WebIO detected Jupyter notebook environment.\");\n",
       "        // Jupyter notebook.\n",
       "        var extensions = (\n",
       "            Jupyter\n",
       "            && Jupyter.notebook.config.data\n",
       "            && Jupyter.notebook.config.data.load_extensions\n",
       "        );\n",
       "        if (extensions && extensions[\"webio-jupyter-notebook\"]) {\n",
       "            // Extension already loaded.\n",
       "            console.log(\"Jupyter WebIO nbextension detected; not loading ad-hoc.\");\n",
       "            hide();\n",
       "            return;\n",
       "        }\n",
       "    } else if (window.location.pathname.includes(\"/lab\")) {\n",
       "        // Guessing JupyterLa\n",
       "        console.log(\"Jupyter Lab detected; make sure the @webio/jupyter-lab-provider labextension is installed.\");\n",
       "        hide();\n",
       "        return;\n",
       "    }\n",
       "})();\n",
       "\n",
       "</script>\n",
       "<p\n",
       "    id=\"webio-warning-5550842406326858366\"\n",
       "    class=\"output_text output_stderr\"\n",
       "    style=\"padding: 1em; font-weight: bold;\"\n",
       ">\n",
       "    Unable to load WebIO. Please make sure WebIO works for your Jupyter client.\n",
       "    For troubleshooting, please see <a href=\"https://juliagizmos.github.io/WebIO.jl/latest/providers/ijulia/\">\n",
       "    the WebIO/IJulia documentation</a>.\n",
       "    <!-- TODO: link to installation docs. -->\n",
       "</p>\n"
      ],
      "text/plain": [
       "HTML{String}(\"<script>\\n// Immediately-invoked-function-expression to avoid global variables.\\n(function() {\\n    var warning_div = document.getElementById(\\\"webio-warning-5550842406326858366\\\");\\n    var hide = function () {\\n        var script = document.getElementById(\\\"webio-setup-6266122873047729647\\\");\\n        var parent = script && script.parentElement;\\n        var grandparent = parent && parent.parentElement;\\n        if (grandparent) {\\n            grandparent.style.display = \\\"none\\\";\\n        }\\n        warning_div.style.display = \\\"none\\\";\\n    };\\n    if (typeof Jupyter !== \\\"undefined\\\") {\\n        console.log(\\\"WebIO detected Jupyter notebook environment.\\\");\\n        // Jupyter notebook.\\n        var extensions = (\\n            Jupyter\\n            && Jupyter.notebook.config.data\\n            && Jupyter.notebook.config.data.load_extensions\\n        );\\n        if (extensions && extensions[\\\"webio-jupyter-notebook\\\"]) {\\n            // Extension already loaded.\\n            console.log(\\\"Jupyter WebIO nbextension detected; not loading ad-hoc.\\\");\\n            hide();\\n            return;\\n        }\\n    } else if (window.location.pathname.includes(\\\"/lab\\\")) {\\n        // Guessing JupyterLa\\n        console.log(\\\"Jupyter Lab detected; make sure the @webio/jupyter-lab-provider labextension is installed.\\\");\\n        hide();\\n        return;\\n    }\\n})();\\n\\n</script>\\n<p\\n    id=\\\"webio-warning-5550842406326858366\\\"\\n    class=\\\"output_text output_stderr\\\"\\n    style=\\\"padding: 1em; font-weight: bold;\\\"\\n>\\n    Unable to load WebIO. Please make sure WebIO works for your Jupyter client.\\n    For troubleshooting, please see <a href=\\\"https://juliagizmos.github.io/WebIO.jl/latest/providers/ijulia/\\\">\\n    the WebIO/IJulia documentation</a>.\\n    <!-- TODO: link to installation docs. -->\\n</p>\\n\")"
      ]
     },
     "metadata": {},
     "output_type": "display_data"
    }
   ],
   "source": [
    "using RRIFT, Perfusion, Statistics\n",
    "using Plots, Interact"
   ]
  },
  {
   "cell_type": "markdown",
   "metadata": {},
   "source": [
    "# Pre-processing\n",
    "\n",
    "Before applying RRIFT, there's a couple of pre-processing steps including:\n",
    "1. Load imaging data from the VFA DICOM files & compute T1 maps\n",
    "1. Load imaging data form the DCE DICOM files & convert the DCE-MRI signal into tracer concentration\n",
    "    + Note to mybinder users: This step requires a lot of memory, so sadly your journey will end here, but the output from the remaining cells can still be viewed.\n",
    "1. Extract signal-time curves from the tumour, muscle, and artery for subsequent model fitting"
   ]
  },
  {
   "cell_type": "code",
   "execution_count": 2,
   "metadata": {},
   "outputs": [
    {
     "name": "stdout",
     "output_type": "stream",
     "text": [
      "VFA: ./data/tcga-gbm-dicom/1.3.6.1.4.1.14519.5.2.1.4591.4001.304604545029494418165835320551/vfa\n",
      "DCE: ./data/tcga-gbm-dicom/1.3.6.1.4.1.14519.5.2.1.4591.4001.304604545029494418165835320551/dce\n"
     ]
    }
   ],
   "source": [
    "chosen_study_uid = RRIFT.gbm_study_uids[8]\n",
    "\n",
    "dicom_folders = download_invivo_studies(chosen_study_uid, destination = \"./data/tcga-gbm-dicom\")\n",
    "\n",
    "# Extract the vfa and dce folders from `dicom_folders`\n",
    "vfa_folder = dicom_folders.vfa_folders[1]\n",
    "dce_folder = dicom_folders.dce_folders[1]\n",
    "\n",
    "println(\"VFA: $vfa_folder\")\n",
    "println(\"DCE: $dce_folder\")"
   ]
  },
  {
   "cell_type": "markdown",
   "metadata": {},
   "source": [
    "## T1 mapping"
   ]
  },
  {
   "cell_type": "code",
   "execution_count": 3,
   "metadata": {},
   "outputs": [
    {
     "name": "stdout",
     "output_type": "stream",
     "text": [
      "Some information for VFA data:\n",
      "    - It is a named tuple with keys: (:signal, :angles, :TR)\n",
      "    - Number of flip angles: 6\n",
      "    - Value of flip angles, in degrees: [2.0, 5.0, 10.0, 15.0, 20.0, 25.0]\n",
      "    - Size of signal data: (256, 256, 16, 6)\n",
      "    - Repetition time, in ms: 5.044\n",
      "\n"
     ]
    }
   ],
   "source": [
    "# Load VFA data\n",
    "vfa = RRIFT.load_vfa_dicom(folder = vfa_folder)\n",
    "\n",
    "println(\"\"\"\n",
    "Some information for VFA data:\n",
    "    - It is a named tuple with keys: $(keys(vfa))\n",
    "    - Number of flip angles: $(length(vfa.angles))\n",
    "    - Value of flip angles, in degrees: $(sort(round.(rad2deg.(vfa.angles))))\n",
    "    - Size of signal data: $(size(vfa.signal))\n",
    "    - Repetition time, in ms: $(vfa.TR)\n",
    "\"\"\")"
   ]
  },
  {
   "cell_type": "markdown",
   "metadata": {},
   "source": [
    "T1 mapping is provided by the `fit_relaxation` function from the `Perfusion` package. \n",
    "There are three algorithms for T1 mapping:\n",
    "1. Non-linear least squares fitting of the spoiled gradient echo equation\n",
    "1. Linear least squares fitting with [DESPOT1](https://onlinelibrary.wiley.com/doi/full/10.1002/mrm.20314)\n",
    "1. Iterative fitting with [NOVIFAST](https://ieeexplore.ieee.org/document/8371285)\n",
    "\n",
    "The fitting algorithm is selected by passing either `:nls`, `:despot`, or `:novifast` as the first argument.\n",
    "This notebook uses DESPOT1 because that is what the paper used. I wasn't aware of NOVIFAST when I wrote the paper, or else I probably would've used it instead of DESPOT1.\n",
    "\n",
    "**Note:** The `fit_relaxation` function expects the first argument to be a symbol followed by keyword arguments. \n",
    "The keywords are `signal`, `angles`, and `TR`. \n",
    "In others words, it could've been written as: `fit_relaxation(:despot, signal = vfa.signal, angles = vfa.angles, TR = vfa.TR)`.\n",
    "However, since the keys in `vfa` match the function's keywords, we can just splat it with `...`. "
   ]
  },
  {
   "cell_type": "code",
   "execution_count": 4,
   "metadata": {},
   "outputs": [
    {
     "data": {
      "text/plain": [
       "(:M0, :T1)"
      ]
     },
     "execution_count": 4,
     "metadata": {},
     "output_type": "execute_result"
    }
   ],
   "source": [
    "# Compute T1 maps using DESPOT1\n",
    "relaxation_maps = fit_relaxation(:despot; vfa...).estimates\n",
    "\n",
    "# The variable `relaxation_maps` contains the keys: T1 & M0\n",
    "keys(relaxation_maps)"
   ]
  },
  {
   "cell_type": "code",
   "execution_count": 5,
   "metadata": {},
   "outputs": [],
   "source": [
    "# Prepare the maps for plotting\n",
    "is_dark = false # Set this to true if using a dark-background theme\n",
    "plotbg = is_dark ? (background_color = RGB(0.067, 0.067, 0.067), ) : (background_color = RGB(1, 1, 1), )\n",
    "\n",
    "M0 = crop(relaxation_maps.M0);\n",
    "T1 = crop(relaxation_maps.T1);"
   ]
  },
  {
   "cell_type": "code",
   "execution_count": null,
   "metadata": {},
   "outputs": [],
   "source": [
    "# Show the M0 and T1 maps\n",
    "num_slices = size(relaxation_maps.T1)[3]\n",
    "@manipulate for slice in 1:num_slices\n",
    "    p1 = heatmap(M0[:,:,slice], c=:cinferno, yflip=true, aspect_ratio=:equal, clim=(0, 15000); title=\"M0\", axis=nothing, plotbg...)\n",
    "    p2 = heatmap(T1[:,:,slice], c=:cinferno, yflip=true, aspect_ratio=:equal, clim=(500, 2000); title=\"T1 (ms)\", axis=nothing, plotbg...)\n",
    "    plot(p1, p2, layout=(1,2))\n",
    "end"
   ]
  },
  {
   "cell_type": "markdown",
   "metadata": {},
   "source": [
    "## DCE-MRI signal to concentration conversion\n",
    "\n",
    "The T1 map is used to convert the DCE-MRI signal into tracer concentration.\n",
    "The `Perfusion` package provides the function `signal_to_concentration` for this purpose.\n",
    "\n",
    "**!! Warning !!**  \n",
    "These steps require about ~2 Gb of memory. This is (currently) more than what mybinder can handle, so the next steps will likely cause the kernel to restart. The output for the next cells is shown so running them is not necessary."
   ]
  },
  {
   "cell_type": "code",
   "execution_count": 7,
   "metadata": {},
   "outputs": [
    {
     "name": "stdout",
     "output_type": "stream",
     "text": [
      "Some information for DCE data:\n",
      "    - It is a named tuple with keys: (:signal, :timepoints, :TR, :angle)\n",
      "    - Size of signal data: (256, 256, 16, 70)\n",
      "    - Number of timepoints/frames: 70\n",
      "    - Flip angle, in degrees: 20.0\n",
      "    - Repetition time, in ms: 5.044\n",
      "\n"
     ]
    }
   ],
   "source": [
    "# Load the DCE-MRI data\n",
    "dce = RRIFT.load_dce_dicom(folder = dce_folder)\n",
    "\n",
    "println(\"\"\"\n",
    "Some information for DCE data:\n",
    "    - It is a named tuple with keys: $(keys(dce))\n",
    "    - Size of signal data: $(size(dce.signal))\n",
    "    - Number of timepoints/frames: $(length(dce.timepoints))\n",
    "    - Flip angle, in degrees: $(rad2deg(dce.angle))\n",
    "    - Repetition time, in ms: $(dce.TR)\n",
    "\"\"\")"
   ]
  },
  {
   "cell_type": "code",
   "execution_count": 8,
   "metadata": {},
   "outputs": [
    {
     "data": {
      "text/plain": [
       "(256, 256, 16, 70)"
      ]
     },
     "execution_count": 8,
     "metadata": {},
     "output_type": "execute_result"
    }
   ],
   "source": [
    "r1 = 3.3/1000 # Relaxivity of Gd-DTPA at 3T, in mM/ms. Ref: PMID 16481903\n",
    "BAF = 3 # Bolus arrival frame, i.e. the frame at which the tracer arrives in the imaging volume\n",
    "R10 = 1 ./ relaxation_maps.T1 # The function wants R1 instead of T1. Who are we to argue?\n",
    "\n",
    "concentration = signal_to_concentration(dce.signal; angle = dce.angle, TR = dce.TR, R10 = R10, BAF = BAF, r1 = r1)\n",
    "size(concentration)"
   ]
  },
  {
   "cell_type": "markdown",
   "metadata": {},
   "source": [
    "## Wrapper function for T1 mapping and signal-concentration conversion\n",
    "\n",
    "The functions in the previous section were shown for educational purposes. \n",
    "The `compute_concentration` function wraps the previous steps together:"
   ]
  },
  {
   "cell_type": "code",
   "execution_count": 9,
   "metadata": {},
   "outputs": [
    {
     "name": "stdout",
     "output_type": "stream",
     "text": [
      "Some information for the computed maps:\n",
      "    - It is a named tuple with keys: keys(computed)\n",
      "    - Does it have the same T1 map as we computed earlier? true\n",
      "    - Does it have the same concentration as computed earlier? true\n",
      "\n"
     ]
    }
   ],
   "source": [
    "computed = compute_concentration(vfa_folder = vfa_folder, dce_folder = dce_folder)\n",
    "\n",
    "println(\"\"\"\n",
    "Some information for the computed maps:\n",
    "    - It is a named tuple with keys: $keys(computed)\n",
    "    - Does it have the same T1 map as we computed earlier? $(all(@. (computed.T1 == relaxation_maps.T1)[!isnan(computed.T1)]))\n",
    "    - Does it have the same concentration as computed earlier? $(all(@. (computed.ct == concentration)[!isnan(concentration)]))\n",
    "\"\"\")"
   ]
  },
  {
   "cell_type": "markdown",
   "metadata": {},
   "source": [
    "## Applying masks\n",
    "\n",
    "Pharmacoknetic modelling of DCE-MRI requires concentration-time curves from:\n",
    "\n",
    "- the tissue of interest (tumour in our cases) denoted as `ct`\n",
    "- the feeding artery (arterial input function / AIF) denoted as `cp`\n",
    "    + technically, it should be `cb` and we'll actually be using a vein instead of artery\n",
    "- a healthy reference tissue (muscle) denoted as `crr`\n",
    "\n",
    "Not all models require the same curves. For example, the well-established Tofts model only needs `ct` and `cp`, whereas the reference region model needs `ct` and `crr`.\n",
    "\n",
    "Contours/masks for the tumour/muscle/blood-vessel were manually drawn and they can be downloaded by:"
   ]
  },
  {
   "cell_type": "code",
   "execution_count": 10,
   "metadata": {},
   "outputs": [
    {
     "data": {
      "text/plain": [
       "\"./data/tcga-gbm-masks\""
      ]
     },
     "execution_count": 10,
     "metadata": {},
     "output_type": "execute_result"
    }
   ],
   "source": [
    "mask_folder = \"./data/tcga-gbm-masks\"\n",
    "download_invivo_masks(destination = mask_folder)\n",
    "# If they masks are already downloaded, then output will be `mask_folder`"
   ]
  },
  {
   "cell_type": "code",
   "execution_count": 11,
   "metadata": {},
   "outputs": [
    {
     "data": {
      "text/plain": [
       "(:aif, :muscle, :tumour)"
      ]
     },
     "execution_count": 11,
     "metadata": {},
     "output_type": "execute_result"
    }
   ],
   "source": [
    "# Get masks for the chosen study\n",
    "mask = get_mask(study = chosen_study_uid, mask_folder = mask_folder)\n",
    "keys(mask)"
   ]
  },
  {
   "cell_type": "code",
   "execution_count": 12,
   "metadata": {},
   "outputs": [],
   "source": [
    "# Apply the masks to get ct, cp, and crr\n",
    "# Note: computed.ct is concentration in entire volume, while ct is concentration in tumour.\n",
    "\n",
    "hematocrit = 0.4 # For AIF (assumed value)\n",
    "\n",
    "t = computed.t\n",
    "ct = apply_mask(data = computed.ct, mask = mask.tumour)\n",
    "cp = apply_mask(data = computed.ct, mask = mask.aif) ./ (1 - 0.4)\n",
    "crr = apply_mask(data = computed.ct, mask = mask.muscle)\n",
    "\n",
    "# cp and crr are averaged because only a single representative curve is needed from each.\n",
    "cp = vec(mean(cp, dims=1))\n",
    "crr = vec(mean(crr, dims=1));"
   ]
  },
  {
   "cell_type": "markdown",
   "metadata": {},
   "source": [
    "## (Another) Wrapper function for all pre-processing steps\n",
    "\n",
    "The pre-processing steps—i.e. T1 mapping, signal-concentration conversion, masking—are needed for each study.\n",
    "Rather than repeating these steps every time, a wrapper function named `preprocess_dicom_to_mat` is used. \n",
    "This function applies all of the preceeding steps and saves the result as a MATLAB-compatible .mat file."
   ]
  },
  {
   "cell_type": "code",
   "execution_count": 13,
   "metadata": {},
   "outputs": [
    {
     "data": {
      "text/plain": [
       "1-element Array{String,1}:\n",
       " \"./data/tcga-gbm-mat-test/1.3.6.1.4.1.14519.5.2.1.4591.4001.304604545029494418165835320551.mat\""
      ]
     },
     "execution_count": 13,
     "metadata": {},
     "output_type": "execute_result"
    }
   ],
   "source": [
    "# `dicom_folders` was defined in the 2nd cell from the top\n",
    "# `mask_folder` was defined in the \"Applying masks\" section\n",
    "preprocessed_mat_files = preprocess_dicom_to_mat(destination = \"./data/tcga-gbm-mat-test\", \n",
    "    dicom_folders = dicom_folders, \n",
    "    mask_folder = mask_folder)\n",
    "# dicom_folders only contains paths for a single study, so only a single .mat file will be produced.\n",
    "# If the dicom files for all 8 studies were downloaded, then 8 .mat files would've been produced."
   ]
  },
  {
   "cell_type": "code",
   "execution_count": 14,
   "metadata": {},
   "outputs": [
    {
     "name": "stdout",
     "output_type": "stream",
     "text": [
      "Some information for the loaded mat_data\n",
      "    - It is a named tuple with keys: (:t, :ct, :crr, :cp, :relaxation, :masks)\n",
      "    - `masks` is a dictionary with keys: [\"muscle\", \"tumour\", \"aif\"]\n",
      "    - `relaxation` is a dictionary with keys: [\"M0\", \"T1\"]\n",
      "\n"
     ]
    }
   ],
   "source": [
    "# The saved .mat file can be loaded into Julia by\n",
    "mat_data = load_preprocessed_mat(preprocessed_mat_files[1])\n",
    "\n",
    "println(\"\"\"\n",
    "Some information for the loaded mat_data\n",
    "    - It is a named tuple with keys: $(keys(mat_data))\n",
    "    - `masks` is a dictionary with keys: $(keys(mat_data.masks))\n",
    "    - `relaxation` is a dictionary with keys: $(keys(mat_data.relaxation))\n",
    "\"\"\")"
   ]
  },
  {
   "cell_type": "markdown",
   "metadata": {},
   "source": [
    "All 8 DCE-MRI studies can be pre-processed by running the following three lines:\n",
    "```julia\n",
    "dicom_folders = download_invivo_studies(destination = \"./data/tcga-gbm-dicom\")\n",
    "mask_folder = download_invivo_masks(destination = \"./data/tcga-gbm-masks\")\n",
    "preprocess_dicom_to_mat(destination = \"./data/tcga-gbm-mat\", dicom_folders = dicom_folders, mask_folder = mask_folder)\n",
    "```\n",
    "\n",
    "To save time, these steps were already done and the pre-processed files can be downloaded directly by:"
   ]
  },
  {
   "cell_type": "code",
   "execution_count": 15,
   "metadata": {},
   "outputs": [
    {
     "data": {
      "text/plain": [
       "\"./data/tcga-gbm-mat\""
      ]
     },
     "execution_count": 15,
     "metadata": {},
     "output_type": "execute_result"
    }
   ],
   "source": [
    "mat_dir = \"./data/tcga-gbm-mat\"\n",
    "download_invivo_preprocessed(destination = mat_dir)"
   ]
  },
  {
   "cell_type": "markdown",
   "metadata": {},
   "source": [
    "The above command will not download any files if the `destination` folder already exists unless if `overwrite = true` is passed as an argument.\n",
    "\n",
    "We can confirm that the .mat files are there by:"
   ]
  },
  {
   "cell_type": "code",
   "execution_count": 16,
   "metadata": {},
   "outputs": [
    {
     "data": {
      "text/plain": [
       "8-element Array{String,1}:\n",
       " \"1.3.6.1.4.1.14519.5.2.1.4591.4001.100057969162276274933613772317.mat\"\n",
       " \"1.3.6.1.4.1.14519.5.2.1.4591.4001.269887096484012292940330991126.mat\"\n",
       " \"1.3.6.1.4.1.14519.5.2.1.4591.4001.278082550121070125285213632206.mat\"\n",
       " \"1.3.6.1.4.1.14519.5.2.1.4591.4001.304604545029494418165835320551.mat\"\n",
       " \"1.3.6.1.4.1.14519.5.2.1.4591.4001.335353575986269052491315637674.mat\"\n",
       " \"1.3.6.1.4.1.14519.5.2.1.4591.4001.365805576275232517344053939830.mat\"\n",
       " \"1.3.6.1.4.1.14519.5.2.1.4591.4001.763554173270318063812534542847.mat\"\n",
       " \"1.3.6.1.4.1.14519.5.2.1.4591.4001.961791689281776173751323306588.mat\""
      ]
     },
     "execution_count": 16,
     "metadata": {},
     "output_type": "execute_result"
    }
   ],
   "source": [
    "mat_files = readdir(mat_dir)"
   ]
  }
 ],
 "metadata": {
  "@webio": {
   "lastCommId": "108e7e79-2e20-4a20-a9a1-6ff8428f40f8",
   "lastKernelId": "829a10e9-df0a-4972-80d0-69381486a0eb"
  },
  "kernelspec": {
   "display_name": "Julia 1.2.0",
   "language": "julia",
   "name": "julia-1.2"
  },
  "language_info": {
   "file_extension": ".jl",
   "mimetype": "application/julia",
   "name": "julia",
   "version": "1.2.0"
  }
 },
 "nbformat": 4,
 "nbformat_minor": 4
}
